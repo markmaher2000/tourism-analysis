{
 "cells": [
  {
   "cell_type": "code",
   "execution_count": 1,
   "id": "8f43fcd0",
   "metadata": {},
   "outputs": [],
   "source": [
    "import pandas as pd\n",
    "import numpy as np\n",
    "import matplotlib.pyplot as plt\n",
    "import seaborn as sns"
   ]
  },
  {
   "cell_type": "code",
   "execution_count": 2,
   "id": "e193f3f3",
   "metadata": {},
   "outputs": [],
   "source": [
    "df = pd.read_csv(\"Customer behaviour Tourism.csv\")"
   ]
  },
  {
   "cell_type": "code",
   "execution_count": 3,
   "id": "09248954",
   "metadata": {},
   "outputs": [
    {
     "data": {
      "text/html": [
       "<div>\n",
       "<style scoped>\n",
       "    .dataframe tbody tr th:only-of-type {\n",
       "        vertical-align: middle;\n",
       "    }\n",
       "\n",
       "    .dataframe tbody tr th {\n",
       "        vertical-align: top;\n",
       "    }\n",
       "\n",
       "    .dataframe thead th {\n",
       "        text-align: right;\n",
       "    }\n",
       "</style>\n",
       "<table border=\"1\" class=\"dataframe\">\n",
       "  <thead>\n",
       "    <tr style=\"text-align: right;\">\n",
       "      <th></th>\n",
       "      <th>UserID</th>\n",
       "      <th>Taken_product</th>\n",
       "      <th>Yearly_avg_view_on_travel_page</th>\n",
       "      <th>preferred_device</th>\n",
       "      <th>total_likes_on_outstation_checkin_given</th>\n",
       "      <th>yearly_avg_Outstation_checkins</th>\n",
       "      <th>member_in_family</th>\n",
       "      <th>preferred_location_type</th>\n",
       "      <th>Yearly_avg_comment_on_travel_page</th>\n",
       "      <th>total_likes_on_outofstation_checkin_received</th>\n",
       "      <th>week_since_last_outstation_checkin</th>\n",
       "      <th>following_company_page</th>\n",
       "      <th>montly_avg_comment_on_company_page</th>\n",
       "      <th>working_flag</th>\n",
       "      <th>travelling_network_rating</th>\n",
       "      <th>Adult_flag</th>\n",
       "      <th>Daily_Avg_mins_spend_on_traveling_page</th>\n",
       "    </tr>\n",
       "  </thead>\n",
       "  <tbody>\n",
       "    <tr>\n",
       "      <th>0</th>\n",
       "      <td>1000001</td>\n",
       "      <td>Yes</td>\n",
       "      <td>307.0</td>\n",
       "      <td>iOS and Android</td>\n",
       "      <td>38570.0</td>\n",
       "      <td>1</td>\n",
       "      <td>2</td>\n",
       "      <td>Financial</td>\n",
       "      <td>94.0</td>\n",
       "      <td>5993</td>\n",
       "      <td>8</td>\n",
       "      <td>Yes</td>\n",
       "      <td>11</td>\n",
       "      <td>No</td>\n",
       "      <td>1</td>\n",
       "      <td>0.0</td>\n",
       "      <td>8.0</td>\n",
       "    </tr>\n",
       "    <tr>\n",
       "      <th>1</th>\n",
       "      <td>1000002</td>\n",
       "      <td>No</td>\n",
       "      <td>367.0</td>\n",
       "      <td>iOS</td>\n",
       "      <td>9765.0</td>\n",
       "      <td>1</td>\n",
       "      <td>1</td>\n",
       "      <td>Financial</td>\n",
       "      <td>61.0</td>\n",
       "      <td>5130</td>\n",
       "      <td>1</td>\n",
       "      <td>No</td>\n",
       "      <td>23</td>\n",
       "      <td>Yes</td>\n",
       "      <td>4</td>\n",
       "      <td>1.0</td>\n",
       "      <td>10.0</td>\n",
       "    </tr>\n",
       "    <tr>\n",
       "      <th>2</th>\n",
       "      <td>1000003</td>\n",
       "      <td>Yes</td>\n",
       "      <td>277.0</td>\n",
       "      <td>iOS and Android</td>\n",
       "      <td>48055.0</td>\n",
       "      <td>1</td>\n",
       "      <td>2</td>\n",
       "      <td>Other</td>\n",
       "      <td>92.0</td>\n",
       "      <td>2090</td>\n",
       "      <td>6</td>\n",
       "      <td>Yes</td>\n",
       "      <td>15</td>\n",
       "      <td>No</td>\n",
       "      <td>2</td>\n",
       "      <td>0.0</td>\n",
       "      <td>7.0</td>\n",
       "    </tr>\n",
       "    <tr>\n",
       "      <th>3</th>\n",
       "      <td>1000004</td>\n",
       "      <td>No</td>\n",
       "      <td>247.0</td>\n",
       "      <td>iOS</td>\n",
       "      <td>48720.0</td>\n",
       "      <td>1</td>\n",
       "      <td>4</td>\n",
       "      <td>Financial</td>\n",
       "      <td>56.0</td>\n",
       "      <td>2909</td>\n",
       "      <td>1</td>\n",
       "      <td>Yes</td>\n",
       "      <td>11</td>\n",
       "      <td>No</td>\n",
       "      <td>3</td>\n",
       "      <td>0.0</td>\n",
       "      <td>8.0</td>\n",
       "    </tr>\n",
       "    <tr>\n",
       "      <th>4</th>\n",
       "      <td>1000005</td>\n",
       "      <td>No</td>\n",
       "      <td>202.0</td>\n",
       "      <td>iOS and Android</td>\n",
       "      <td>20685.0</td>\n",
       "      <td>1</td>\n",
       "      <td>1</td>\n",
       "      <td>Medical</td>\n",
       "      <td>40.0</td>\n",
       "      <td>3468</td>\n",
       "      <td>9</td>\n",
       "      <td>No</td>\n",
       "      <td>12</td>\n",
       "      <td>No</td>\n",
       "      <td>4</td>\n",
       "      <td>1.0</td>\n",
       "      <td>6.0</td>\n",
       "    </tr>\n",
       "  </tbody>\n",
       "</table>\n",
       "</div>"
      ],
      "text/plain": [
       "    UserID Taken_product  Yearly_avg_view_on_travel_page preferred_device  \\\n",
       "0  1000001           Yes                           307.0  iOS and Android   \n",
       "1  1000002            No                           367.0              iOS   \n",
       "2  1000003           Yes                           277.0  iOS and Android   \n",
       "3  1000004            No                           247.0              iOS   \n",
       "4  1000005            No                           202.0  iOS and Android   \n",
       "\n",
       "   total_likes_on_outstation_checkin_given yearly_avg_Outstation_checkins  \\\n",
       "0                                  38570.0                              1   \n",
       "1                                   9765.0                              1   \n",
       "2                                  48055.0                              1   \n",
       "3                                  48720.0                              1   \n",
       "4                                  20685.0                              1   \n",
       "\n",
       "  member_in_family preferred_location_type  Yearly_avg_comment_on_travel_page  \\\n",
       "0                2               Financial                               94.0   \n",
       "1                1               Financial                               61.0   \n",
       "2                2                   Other                               92.0   \n",
       "3                4               Financial                               56.0   \n",
       "4                1                 Medical                               40.0   \n",
       "\n",
       "   total_likes_on_outofstation_checkin_received  \\\n",
       "0                                          5993   \n",
       "1                                          5130   \n",
       "2                                          2090   \n",
       "3                                          2909   \n",
       "4                                          3468   \n",
       "\n",
       "   week_since_last_outstation_checkin following_company_page  \\\n",
       "0                                   8                    Yes   \n",
       "1                                   1                     No   \n",
       "2                                   6                    Yes   \n",
       "3                                   1                    Yes   \n",
       "4                                   9                     No   \n",
       "\n",
       "   montly_avg_comment_on_company_page working_flag  travelling_network_rating  \\\n",
       "0                                  11           No                          1   \n",
       "1                                  23          Yes                          4   \n",
       "2                                  15           No                          2   \n",
       "3                                  11           No                          3   \n",
       "4                                  12           No                          4   \n",
       "\n",
       "   Adult_flag  Daily_Avg_mins_spend_on_traveling_page  \n",
       "0         0.0                                     8.0  \n",
       "1         1.0                                    10.0  \n",
       "2         0.0                                     7.0  \n",
       "3         0.0                                     8.0  \n",
       "4         1.0                                     6.0  "
      ]
     },
     "execution_count": 3,
     "metadata": {},
     "output_type": "execute_result"
    }
   ],
   "source": [
    "df.head()"
   ]
  },
  {
   "cell_type": "code",
   "execution_count": 4,
   "id": "f36f4e02",
   "metadata": {},
   "outputs": [
    {
     "data": {
      "text/plain": [
       "(11760, 17)"
      ]
     },
     "execution_count": 4,
     "metadata": {},
     "output_type": "execute_result"
    }
   ],
   "source": [
    "df.shape"
   ]
  },
  {
   "cell_type": "code",
   "execution_count": 5,
   "id": "4802625a",
   "metadata": {},
   "outputs": [
    {
     "name": "stdout",
     "output_type": "stream",
     "text": [
      "<class 'pandas.core.frame.DataFrame'>\n",
      "RangeIndex: 11760 entries, 0 to 11759\n",
      "Data columns (total 17 columns):\n",
      " #   Column                                        Non-Null Count  Dtype  \n",
      "---  ------                                        --------------  -----  \n",
      " 0   UserID                                        11760 non-null  int64  \n",
      " 1   Taken_product                                 11760 non-null  object \n",
      " 2   Yearly_avg_view_on_travel_page                11179 non-null  float64\n",
      " 3   preferred_device                              11707 non-null  object \n",
      " 4   total_likes_on_outstation_checkin_given       11379 non-null  float64\n",
      " 5   yearly_avg_Outstation_checkins                11685 non-null  object \n",
      " 6   member_in_family                              11760 non-null  object \n",
      " 7   preferred_location_type                       11729 non-null  object \n",
      " 8   Yearly_avg_comment_on_travel_page             11554 non-null  float64\n",
      " 9   total_likes_on_outofstation_checkin_received  11760 non-null  int64  \n",
      " 10  week_since_last_outstation_checkin            11760 non-null  int64  \n",
      " 11  following_company_page                        11657 non-null  object \n",
      " 12  montly_avg_comment_on_company_page            11760 non-null  int64  \n",
      " 13  working_flag                                  11760 non-null  object \n",
      " 14  travelling_network_rating                     11760 non-null  int64  \n",
      " 15  Adult_flag                                    11759 non-null  float64\n",
      " 16  Daily_Avg_mins_spend_on_traveling_page        11759 non-null  float64\n",
      "dtypes: float64(5), int64(5), object(7)\n",
      "memory usage: 1.5+ MB\n"
     ]
    }
   ],
   "source": [
    "df.info()"
   ]
  },
  {
   "cell_type": "code",
   "execution_count": 6,
   "id": "d9762528",
   "metadata": {},
   "outputs": [
    {
     "data": {
      "text/plain": [
       "UserID                                            0\n",
       "Taken_product                                     0\n",
       "Yearly_avg_view_on_travel_page                  581\n",
       "preferred_device                                 53\n",
       "total_likes_on_outstation_checkin_given         381\n",
       "yearly_avg_Outstation_checkins                   75\n",
       "member_in_family                                  0\n",
       "preferred_location_type                          31\n",
       "Yearly_avg_comment_on_travel_page               206\n",
       "total_likes_on_outofstation_checkin_received      0\n",
       "week_since_last_outstation_checkin                0\n",
       "following_company_page                          103\n",
       "montly_avg_comment_on_company_page                0\n",
       "working_flag                                      0\n",
       "travelling_network_rating                         0\n",
       "Adult_flag                                        1\n",
       "Daily_Avg_mins_spend_on_traveling_page            1\n",
       "dtype: int64"
      ]
     },
     "execution_count": 6,
     "metadata": {},
     "output_type": "execute_result"
    }
   ],
   "source": [
    "df.isnull().sum()"
   ]
  },
  {
   "cell_type": "code",
   "execution_count": 7,
   "id": "e07e42a3",
   "metadata": {},
   "outputs": [
    {
     "data": {
      "text/html": [
       "<div>\n",
       "<style scoped>\n",
       "    .dataframe tbody tr th:only-of-type {\n",
       "        vertical-align: middle;\n",
       "    }\n",
       "\n",
       "    .dataframe tbody tr th {\n",
       "        vertical-align: top;\n",
       "    }\n",
       "\n",
       "    .dataframe thead th {\n",
       "        text-align: right;\n",
       "    }\n",
       "</style>\n",
       "<table border=\"1\" class=\"dataframe\">\n",
       "  <thead>\n",
       "    <tr style=\"text-align: right;\">\n",
       "      <th></th>\n",
       "      <th>UserID</th>\n",
       "      <th>Yearly_avg_view_on_travel_page</th>\n",
       "      <th>total_likes_on_outstation_checkin_given</th>\n",
       "      <th>Yearly_avg_comment_on_travel_page</th>\n",
       "      <th>total_likes_on_outofstation_checkin_received</th>\n",
       "      <th>week_since_last_outstation_checkin</th>\n",
       "      <th>montly_avg_comment_on_company_page</th>\n",
       "      <th>travelling_network_rating</th>\n",
       "      <th>Adult_flag</th>\n",
       "      <th>Daily_Avg_mins_spend_on_traveling_page</th>\n",
       "    </tr>\n",
       "  </thead>\n",
       "  <tbody>\n",
       "    <tr>\n",
       "      <th>count</th>\n",
       "      <td>1.176000e+04</td>\n",
       "      <td>11179.000000</td>\n",
       "      <td>11379.000000</td>\n",
       "      <td>11554.000000</td>\n",
       "      <td>11760.000000</td>\n",
       "      <td>11760.000000</td>\n",
       "      <td>11760.000000</td>\n",
       "      <td>11760.000000</td>\n",
       "      <td>11759.000000</td>\n",
       "      <td>11759.000000</td>\n",
       "    </tr>\n",
       "    <tr>\n",
       "      <th>mean</th>\n",
       "      <td>1.005880e+06</td>\n",
       "      <td>280.830844</td>\n",
       "      <td>28170.481765</td>\n",
       "      <td>74.790029</td>\n",
       "      <td>6531.699065</td>\n",
       "      <td>3.203571</td>\n",
       "      <td>28.660884</td>\n",
       "      <td>2.712755</td>\n",
       "      <td>0.793945</td>\n",
       "      <td>13.817757</td>\n",
       "    </tr>\n",
       "    <tr>\n",
       "      <th>std</th>\n",
       "      <td>3.394964e+03</td>\n",
       "      <td>68.182958</td>\n",
       "      <td>14385.032134</td>\n",
       "      <td>24.026650</td>\n",
       "      <td>4706.613785</td>\n",
       "      <td>2.616365</td>\n",
       "      <td>48.660793</td>\n",
       "      <td>1.082909</td>\n",
       "      <td>0.851828</td>\n",
       "      <td>9.070974</td>\n",
       "    </tr>\n",
       "    <tr>\n",
       "      <th>min</th>\n",
       "      <td>1.000001e+06</td>\n",
       "      <td>35.000000</td>\n",
       "      <td>3570.000000</td>\n",
       "      <td>3.000000</td>\n",
       "      <td>1009.000000</td>\n",
       "      <td>0.000000</td>\n",
       "      <td>4.000000</td>\n",
       "      <td>1.000000</td>\n",
       "      <td>0.000000</td>\n",
       "      <td>0.000000</td>\n",
       "    </tr>\n",
       "    <tr>\n",
       "      <th>25%</th>\n",
       "      <td>1.002941e+06</td>\n",
       "      <td>232.000000</td>\n",
       "      <td>16380.000000</td>\n",
       "      <td>57.000000</td>\n",
       "      <td>2940.750000</td>\n",
       "      <td>1.000000</td>\n",
       "      <td>17.000000</td>\n",
       "      <td>2.000000</td>\n",
       "      <td>0.000000</td>\n",
       "      <td>8.000000</td>\n",
       "    </tr>\n",
       "    <tr>\n",
       "      <th>50%</th>\n",
       "      <td>1.005880e+06</td>\n",
       "      <td>271.000000</td>\n",
       "      <td>28076.000000</td>\n",
       "      <td>75.000000</td>\n",
       "      <td>4948.000000</td>\n",
       "      <td>3.000000</td>\n",
       "      <td>22.000000</td>\n",
       "      <td>3.000000</td>\n",
       "      <td>1.000000</td>\n",
       "      <td>12.000000</td>\n",
       "    </tr>\n",
       "    <tr>\n",
       "      <th>75%</th>\n",
       "      <td>1.008820e+06</td>\n",
       "      <td>324.000000</td>\n",
       "      <td>40525.000000</td>\n",
       "      <td>92.000000</td>\n",
       "      <td>8393.250000</td>\n",
       "      <td>5.000000</td>\n",
       "      <td>27.000000</td>\n",
       "      <td>4.000000</td>\n",
       "      <td>1.000000</td>\n",
       "      <td>18.000000</td>\n",
       "    </tr>\n",
       "    <tr>\n",
       "      <th>max</th>\n",
       "      <td>1.011760e+06</td>\n",
       "      <td>464.000000</td>\n",
       "      <td>252430.000000</td>\n",
       "      <td>815.000000</td>\n",
       "      <td>20065.000000</td>\n",
       "      <td>11.000000</td>\n",
       "      <td>500.000000</td>\n",
       "      <td>10.000000</td>\n",
       "      <td>3.000000</td>\n",
       "      <td>270.000000</td>\n",
       "    </tr>\n",
       "  </tbody>\n",
       "</table>\n",
       "</div>"
      ],
      "text/plain": [
       "             UserID  Yearly_avg_view_on_travel_page  \\\n",
       "count  1.176000e+04                    11179.000000   \n",
       "mean   1.005880e+06                      280.830844   \n",
       "std    3.394964e+03                       68.182958   \n",
       "min    1.000001e+06                       35.000000   \n",
       "25%    1.002941e+06                      232.000000   \n",
       "50%    1.005880e+06                      271.000000   \n",
       "75%    1.008820e+06                      324.000000   \n",
       "max    1.011760e+06                      464.000000   \n",
       "\n",
       "       total_likes_on_outstation_checkin_given  \\\n",
       "count                             11379.000000   \n",
       "mean                              28170.481765   \n",
       "std                               14385.032134   \n",
       "min                                3570.000000   \n",
       "25%                               16380.000000   \n",
       "50%                               28076.000000   \n",
       "75%                               40525.000000   \n",
       "max                              252430.000000   \n",
       "\n",
       "       Yearly_avg_comment_on_travel_page  \\\n",
       "count                       11554.000000   \n",
       "mean                           74.790029   \n",
       "std                            24.026650   \n",
       "min                             3.000000   \n",
       "25%                            57.000000   \n",
       "50%                            75.000000   \n",
       "75%                            92.000000   \n",
       "max                           815.000000   \n",
       "\n",
       "       total_likes_on_outofstation_checkin_received  \\\n",
       "count                                  11760.000000   \n",
       "mean                                    6531.699065   \n",
       "std                                     4706.613785   \n",
       "min                                     1009.000000   \n",
       "25%                                     2940.750000   \n",
       "50%                                     4948.000000   \n",
       "75%                                     8393.250000   \n",
       "max                                    20065.000000   \n",
       "\n",
       "       week_since_last_outstation_checkin  montly_avg_comment_on_company_page  \\\n",
       "count                        11760.000000                        11760.000000   \n",
       "mean                             3.203571                           28.660884   \n",
       "std                              2.616365                           48.660793   \n",
       "min                              0.000000                            4.000000   \n",
       "25%                              1.000000                           17.000000   \n",
       "50%                              3.000000                           22.000000   \n",
       "75%                              5.000000                           27.000000   \n",
       "max                             11.000000                          500.000000   \n",
       "\n",
       "       travelling_network_rating    Adult_flag  \\\n",
       "count               11760.000000  11759.000000   \n",
       "mean                    2.712755      0.793945   \n",
       "std                     1.082909      0.851828   \n",
       "min                     1.000000      0.000000   \n",
       "25%                     2.000000      0.000000   \n",
       "50%                     3.000000      1.000000   \n",
       "75%                     4.000000      1.000000   \n",
       "max                    10.000000      3.000000   \n",
       "\n",
       "       Daily_Avg_mins_spend_on_traveling_page  \n",
       "count                            11759.000000  \n",
       "mean                                13.817757  \n",
       "std                                  9.070974  \n",
       "min                                  0.000000  \n",
       "25%                                  8.000000  \n",
       "50%                                 12.000000  \n",
       "75%                                 18.000000  \n",
       "max                                270.000000  "
      ]
     },
     "execution_count": 7,
     "metadata": {},
     "output_type": "execute_result"
    }
   ],
   "source": [
    "df.describe()"
   ]
  },
  {
   "cell_type": "code",
   "execution_count": 8,
   "id": "096fc98c",
   "metadata": {},
   "outputs": [
    {
     "data": {
      "text/plain": [
       "Index(['UserID', 'Taken_product', 'Yearly_avg_view_on_travel_page',\n",
       "       'preferred_device', 'total_likes_on_outstation_checkin_given',\n",
       "       'yearly_avg_Outstation_checkins', 'member_in_family',\n",
       "       'preferred_location_type', 'Yearly_avg_comment_on_travel_page',\n",
       "       'total_likes_on_outofstation_checkin_received',\n",
       "       'week_since_last_outstation_checkin', 'following_company_page',\n",
       "       'montly_avg_comment_on_company_page', 'working_flag',\n",
       "       'travelling_network_rating', 'Adult_flag',\n",
       "       'Daily_Avg_mins_spend_on_traveling_page'],\n",
       "      dtype='object')"
      ]
     },
     "execution_count": 8,
     "metadata": {},
     "output_type": "execute_result"
    }
   ],
   "source": [
    "df.columns"
   ]
  },
  {
   "cell_type": "markdown",
   "id": "53d2aea5",
   "metadata": {},
   "source": [
    "### Problem in column (Yearly_avg_view_on_travel_page)\n",
    "##### There're missing values"
   ]
  },
  {
   "cell_type": "code",
   "execution_count": 9,
   "id": "a23fda6a",
   "metadata": {},
   "outputs": [
    {
     "data": {
      "text/plain": [
       "<Axes: xlabel='Yearly_avg_view_on_travel_page'>"
      ]
     },
     "execution_count": 9,
     "metadata": {},
     "output_type": "execute_result"
    },
    {
     "data": {
      "image/png": "[encoded data removed]",
      "text/plain": [
       "<Figure size 640x480 with 1 Axes>"
      ]
     },
     "metadata": {},
     "output_type": "display_data"
    }
   ],
   "source": [
    "sns.boxplot(x=df['Yearly_avg_view_on_travel_page'])"
   ]
  },
  {
   "cell_type": "code",
   "execution_count": 10,
   "id": "880888b1",
   "metadata": {},
   "outputs": [
    {
     "data": {
      "text/plain": [
       "0.41440864026140356"
      ]
     },
     "execution_count": 10,
     "metadata": {},
     "output_type": "execute_result"
    }
   ],
   "source": [
    "df['Yearly_avg_view_on_travel_page'].skew()"
   ]
  },
  {
   "cell_type": "code",
   "execution_count": 11,
   "id": "6ff27bbd",
   "metadata": {},
   "outputs": [
    {
     "data": {
      "image/png": "[encoded data removed]",
      "text/plain": [
       "<Figure size 640x480 with 1 Axes>"
      ]
     },
     "metadata": {},
     "output_type": "display_data"
    }
   ],
   "source": [
    "sns.histplot(df['Yearly_avg_view_on_travel_page'].dropna(), kde=True, bins=30, color='skyblue')\n",
    "plt.title(\"Distribution of Yearly_avg_view_on_travel_page\")\n",
    "plt.show()"
   ]
  },
  {
   "cell_type": "code",
   "execution_count": 12,
   "id": "02d06fd8",
   "metadata": {},
   "outputs": [],
   "source": [
    "df[\"Yearly_avg_view_on_travel_page\"].fillna(df[\"Yearly_avg_view_on_travel_page\"].median(), inplace=True)"
   ]
  },
  {
   "cell_type": "markdown",
   "id": "2548bdc2",
   "metadata": {},
   "source": [
    "### Problem in column (preferred_device)\n",
    "##### There're missing values"
   ]
  },
  {
   "cell_type": "code",
   "execution_count": 13,
   "id": "742d43bc",
   "metadata": {},
   "outputs": [
    {
     "data": {
      "text/plain": [
       "array(['iOS and Android', 'iOS', 'ANDROID', nan, 'Android', 'Android OS',\n",
       "       'Other', 'Others', 'Tab', 'Laptop', 'Mobile'], dtype=object)"
      ]
     },
     "execution_count": 13,
     "metadata": {},
     "output_type": "execute_result"
    }
   ],
   "source": [
    "df[\"preferred_device\"].unique()"
   ]
  },
  {
   "cell_type": "code",
   "execution_count": 14,
   "id": "bb80da1b",
   "metadata": {},
   "outputs": [],
   "source": [
    "df[\"preferred_device\"].fillna(\"Unknown\", inplace=True)"
   ]
  },
  {
   "cell_type": "code",
   "execution_count": 15,
   "id": "8ae1ee81",
   "metadata": {},
   "outputs": [],
   "source": [
    "devices = {\n",
    "    \"iOS and Android\" : \"Mobile\",\n",
    "    \"iOS\" : \"Mobile\",\n",
    "    \"ANDROID\" : \"Mobile\",\n",
    "    \"Android\" : \"Mobile\",\n",
    "    \"Android OS\" : \"Mobile\",\n",
    "    \"Tab\" : \"Mobile\"\n",
    "}\n",
    "df[\"preferred_device\"].replace(devices, inplace=True)"
   ]
  },
  {
   "cell_type": "code",
   "execution_count": 16,
   "id": "4172d90e",
   "metadata": {},
   "outputs": [
    {
     "data": {
      "text/plain": [
       "array(['Mobile', 'Unknown', 'Other', 'Others', 'Laptop'], dtype=object)"
      ]
     },
     "execution_count": 16,
     "metadata": {},
     "output_type": "execute_result"
    }
   ],
   "source": [
    "df[\"preferred_device\"].unique()"
   ]
  },
  {
   "cell_type": "code",
   "execution_count": 17,
   "id": "35ab100f",
   "metadata": {},
   "outputs": [
    {
     "data": {
      "text/plain": [
       "False"
      ]
     },
     "execution_count": 17,
     "metadata": {},
     "output_type": "execute_result"
    }
   ],
   "source": [
    "df[\"preferred_device\"].isnull().sum().any()"
   ]
  },
  {
   "cell_type": "markdown",
   "id": "a3b93f48",
   "metadata": {},
   "source": [
    "### Problem in Column (total_likes_on_outstation_checkin_given)\n",
    "##### There're missing Values"
   ]
  },
  {
   "cell_type": "code",
   "execution_count": 18,
   "id": "795901e5",
   "metadata": {},
   "outputs": [
    {
     "data": {
      "text/plain": [
       "<Axes: xlabel='total_likes_on_outstation_checkin_given'>"
      ]
     },
     "execution_count": 18,
     "metadata": {},
     "output_type": "execute_result"
    },
    {
     "data": {
      "image/png": "[encoded data removed]",
      "text/plain": [
       "<Figure size 640x480 with 1 Axes>"
      ]
     },
     "metadata": {},
     "output_type": "display_data"
    }
   ],
   "source": [
    "sns.boxplot(x=df['total_likes_on_outstation_checkin_given'])"
   ]
  },
  {
   "cell_type": "code",
   "execution_count": 19,
   "id": "b3b8fb15",
   "metadata": {},
   "outputs": [
    {
     "data": {
      "text/plain": [
       "0.48963757247343104"
      ]
     },
     "execution_count": 19,
     "metadata": {},
     "output_type": "execute_result"
    }
   ],
   "source": [
    "df['total_likes_on_outstation_checkin_given'].skew()"
   ]
  },
  {
   "cell_type": "code",
   "execution_count": 20,
   "id": "52f5bcae",
   "metadata": {},
   "outputs": [
    {
     "data": {
      "image/png": "[encoded data removed]",
      "text/plain": [
       "<Figure size 640x480 with 1 Axes>"
      ]
     },
     "metadata": {},
     "output_type": "display_data"
    }
   ],
   "source": [
    "sns.histplot(df['total_likes_on_outstation_checkin_given'].dropna(), kde=True, bins=30, color='skyblue')\n",
    "plt.title(\"Distribution of total_likes_on_outstation_checkin_given\")\n",
    "plt.show()"
   ]
  },
  {
   "cell_type": "code",
   "execution_count": 21,
   "id": "6acdf0e6",
   "metadata": {},
   "outputs": [],
   "source": [
    "df[\"total_likes_on_outstation_checkin_given\"].fillna(df[\"total_likes_on_outstation_checkin_given\"].median(), inplace=True)"
   ]
  },
  {
   "cell_type": "markdown",
   "id": "04d93741",
   "metadata": {},
   "source": [
    "### Problem in column (yearly_avg_Outstation_checkins)\n",
    "##### There's problem in data type !!"
   ]
  },
  {
   "cell_type": "code",
   "execution_count": 22,
   "id": "c4b8d3b9",
   "metadata": {},
   "outputs": [
    {
     "data": {
      "text/plain": [
       "array(['1', '24', '23', '27', '16', '15', '26', '19', '21', '11', '10',\n",
       "       '25', '12', '18', '29', nan, '22', '14', '20', '28', '17', '13',\n",
       "       '*', '5', '8', '2', '3', '9', '7', '6', '4'], dtype=object)"
      ]
     },
     "execution_count": 22,
     "metadata": {},
     "output_type": "execute_result"
    }
   ],
   "source": [
    "df[\"yearly_avg_Outstation_checkins\"].unique()"
   ]
  },
  {
   "cell_type": "code",
   "execution_count": 23,
   "id": "1d95d2a3",
   "metadata": {},
   "outputs": [],
   "source": [
    "df[\"yearly_avg_Outstation_checkins\"].replace(\"*\", np.nan, inplace=True)"
   ]
  },
  {
   "cell_type": "code",
   "execution_count": 24,
   "id": "4ab2b55e",
   "metadata": {},
   "outputs": [
    {
     "data": {
      "text/plain": [
       "array(['1', '24', '23', '27', '16', '15', '26', '19', '21', '11', '10',\n",
       "       '25', '12', '18', '29', nan, '22', '14', '20', '28', '17', '13',\n",
       "       '5', '8', '2', '3', '9', '7', '6', '4'], dtype=object)"
      ]
     },
     "execution_count": 24,
     "metadata": {},
     "output_type": "execute_result"
    }
   ],
   "source": [
    "df[\"yearly_avg_Outstation_checkins\"].unique()"
   ]
  },
  {
   "cell_type": "code",
   "execution_count": 25,
   "id": "16cd1b0f",
   "metadata": {},
   "outputs": [],
   "source": [
    "# df[\"yearly_avg_Outstation_checkins\"].fillna(df[\"yearly_avg_Outstation_checkins\"].mean(), inplace=True)\n",
    "# df[\"yearly_avg_Outstation_checkins\"] = df[\"yearly_avg_Outstation_checkins\"].astype(int)"
   ]
  },
  {
   "cell_type": "code",
   "execution_count": 26,
   "id": "ad48f75a",
   "metadata": {},
   "outputs": [],
   "source": [
    "df[\"yearly_avg_Outstation_checkins\"] = pd.to_numeric(df[\"yearly_avg_Outstation_checkins\"])\n",
    "df[\"yearly_avg_Outstation_checkins\"].fillna(df[\"yearly_avg_Outstation_checkins\"].mean(), inplace=True)"
   ]
  },
  {
   "cell_type": "code",
   "execution_count": 27,
   "id": "39adf94b",
   "metadata": {},
   "outputs": [
    {
     "data": {
      "text/plain": [
       "False"
      ]
     },
     "execution_count": 27,
     "metadata": {},
     "output_type": "execute_result"
    }
   ],
   "source": [
    "df[\"yearly_avg_Outstation_checkins\"].isnull().sum().any()"
   ]
  },
  {
   "cell_type": "code",
   "execution_count": 28,
   "id": "2cc0021a",
   "metadata": {},
   "outputs": [
    {
     "data": {
      "text/plain": [
       "dtype('float64')"
      ]
     },
     "execution_count": 28,
     "metadata": {},
     "output_type": "execute_result"
    }
   ],
   "source": [
    "df[\"yearly_avg_Outstation_checkins\"].dtype"
   ]
  },
  {
   "cell_type": "code",
   "execution_count": 29,
   "id": "383ee919",
   "metadata": {},
   "outputs": [],
   "source": [
    "df[\"yearly_avg_Outstation_checkins\"] = df[\"yearly_avg_Outstation_checkins\"].astype(int)"
   ]
  },
  {
   "cell_type": "markdown",
   "id": "9b9d7421",
   "metadata": {},
   "source": [
    "### Problem in column (member_in_family)\n",
    "##### There's problem in data type!!"
   ]
  },
  {
   "cell_type": "code",
   "execution_count": 30,
   "id": "d1b5bb5d",
   "metadata": {},
   "outputs": [
    {
     "data": {
      "text/plain": [
       "array(['2', '1', '4', 'Three', '3', '5', '10'], dtype=object)"
      ]
     },
     "execution_count": 30,
     "metadata": {},
     "output_type": "execute_result"
    }
   ],
   "source": [
    "df[\"member_in_family\"].unique()"
   ]
  },
  {
   "cell_type": "code",
   "execution_count": 31,
   "id": "b9dcaa8d",
   "metadata": {},
   "outputs": [],
   "source": [
    "df[\"member_in_family\"].replace(\"Three\", \"3\", inplace=True)\n",
    "df[\"member_in_family\"] = pd.to_numeric(df[\"member_in_family\"])"
   ]
  },
  {
   "cell_type": "code",
   "execution_count": 32,
   "id": "10cfebb9",
   "metadata": {},
   "outputs": [
    {
     "data": {
      "text/plain": [
       "False"
      ]
     },
     "execution_count": 32,
     "metadata": {},
     "output_type": "execute_result"
    }
   ],
   "source": [
    "df[\"member_in_family\"].isnull().sum().any()"
   ]
  },
  {
   "cell_type": "markdown",
   "id": "715beb4a",
   "metadata": {},
   "source": [
    "### Problem in column (preferred_location_type)\n",
    "##### There're missing values"
   ]
  },
  {
   "cell_type": "code",
   "execution_count": 33,
   "id": "39109f37",
   "metadata": {},
   "outputs": [
    {
     "data": {
      "text/plain": [
       "array(['Financial', 'Other', 'Medical', nan, 'Game', 'Social media',\n",
       "       'Entertainment', 'Tour and Travel', 'Movie', 'OTT', 'Tour  Travel',\n",
       "       'Beach', 'Historical site', 'Big Cities', 'Trekking',\n",
       "       'Hill Stations'], dtype=object)"
      ]
     },
     "execution_count": 33,
     "metadata": {},
     "output_type": "execute_result"
    }
   ],
   "source": [
    "df[\"preferred_location_type\"].unique()"
   ]
  },
  {
   "cell_type": "code",
   "execution_count": 34,
   "id": "c0353ecc",
   "metadata": {},
   "outputs": [
    {
     "data": {
      "text/plain": [
       "31"
      ]
     },
     "execution_count": 34,
     "metadata": {},
     "output_type": "execute_result"
    }
   ],
   "source": [
    "df[\"preferred_location_type\"].isnull().sum()"
   ]
  },
  {
   "cell_type": "code",
   "execution_count": 35,
   "id": "0f3778ec",
   "metadata": {},
   "outputs": [],
   "source": [
    "df[\"preferred_location_type\"].fillna(df[\"preferred_location_type\"].mode()[0], inplace=True)"
   ]
  },
  {
   "cell_type": "markdown",
   "id": "2010d004",
   "metadata": {},
   "source": [
    "### Problem in Column (Yearly_avg_comment_on_travel_page)\n",
    "##### There're missing values"
   ]
  },
  {
   "cell_type": "code",
   "execution_count": 36,
   "id": "7b4db376",
   "metadata": {},
   "outputs": [
    {
     "data": {
      "text/plain": [
       "4.86822498515086"
      ]
     },
     "execution_count": 36,
     "metadata": {},
     "output_type": "execute_result"
    }
   ],
   "source": [
    "df[\"Yearly_avg_comment_on_travel_page\"].skew()"
   ]
  },
  {
   "cell_type": "code",
   "execution_count": 37,
   "id": "294b4806",
   "metadata": {},
   "outputs": [
    {
     "data": {
      "text/plain": [
       "<Axes: xlabel='Yearly_avg_comment_on_travel_page'>"
      ]
     },
     "execution_count": 37,
     "metadata": {},
     "output_type": "execute_result"
    },
    {
     "data": {
      "image/png": "[encoded data removed]",
      "text/plain": [
       "<Figure size 640x480 with 1 Axes>"
      ]
     },
     "metadata": {},
     "output_type": "display_data"
    }
   ],
   "source": [
    "sns.boxplot(x =df[\"Yearly_avg_comment_on_travel_page\"])"
   ]
  },
  {
   "cell_type": "code",
   "execution_count": 38,
   "id": "a79e2435",
   "metadata": {},
   "outputs": [],
   "source": [
    "df[\"Yearly_avg_comment_on_travel_page\"].fillna(df[\"Yearly_avg_comment_on_travel_page\"].median(), inplace=True)"
   ]
  },
  {
   "cell_type": "code",
   "execution_count": 39,
   "id": "c633618d",
   "metadata": {},
   "outputs": [
    {
     "data": {
      "text/plain": [
       "False"
      ]
     },
     "execution_count": 39,
     "metadata": {},
     "output_type": "execute_result"
    }
   ],
   "source": [
    "df[\"Yearly_avg_comment_on_travel_page\"].isnull().sum().any()"
   ]
  },
  {
   "cell_type": "markdown",
   "id": "8a0c5b7e",
   "metadata": {},
   "source": [
    "### Problem in column (following_company_page)\n",
    "##### There're missing values"
   ]
  },
  {
   "cell_type": "code",
   "execution_count": 40,
   "id": "2cce5221",
   "metadata": {},
   "outputs": [
    {
     "data": {
      "text/plain": [
       "array(['Yes', 'No', 'Yeso', nan, '1', '0'], dtype=object)"
      ]
     },
     "execution_count": 40,
     "metadata": {},
     "output_type": "execute_result"
    }
   ],
   "source": [
    "df[\"following_company_page\"].unique()"
   ]
  },
  {
   "cell_type": "code",
   "execution_count": 41,
   "id": "bdf12fed",
   "metadata": {},
   "outputs": [
    {
     "data": {
      "text/html": [
       "<div>\n",
       "<style scoped>\n",
       "    .dataframe tbody tr th:only-of-type {\n",
       "        vertical-align: middle;\n",
       "    }\n",
       "\n",
       "    .dataframe tbody tr th {\n",
       "        vertical-align: top;\n",
       "    }\n",
       "\n",
       "    .dataframe thead th {\n",
       "        text-align: right;\n",
       "    }\n",
       "</style>\n",
       "<table border=\"1\" class=\"dataframe\">\n",
       "  <thead>\n",
       "    <tr style=\"text-align: right;\">\n",
       "      <th></th>\n",
       "      <th>UserID</th>\n",
       "      <th>Taken_product</th>\n",
       "      <th>Yearly_avg_view_on_travel_page</th>\n",
       "      <th>preferred_device</th>\n",
       "      <th>total_likes_on_outstation_checkin_given</th>\n",
       "      <th>yearly_avg_Outstation_checkins</th>\n",
       "      <th>member_in_family</th>\n",
       "      <th>preferred_location_type</th>\n",
       "      <th>Yearly_avg_comment_on_travel_page</th>\n",
       "      <th>total_likes_on_outofstation_checkin_received</th>\n",
       "      <th>week_since_last_outstation_checkin</th>\n",
       "      <th>following_company_page</th>\n",
       "      <th>montly_avg_comment_on_company_page</th>\n",
       "      <th>working_flag</th>\n",
       "      <th>travelling_network_rating</th>\n",
       "      <th>Adult_flag</th>\n",
       "      <th>Daily_Avg_mins_spend_on_traveling_page</th>\n",
       "    </tr>\n",
       "  </thead>\n",
       "  <tbody>\n",
       "    <tr>\n",
       "      <th>2728</th>\n",
       "      <td>1002729</td>\n",
       "      <td>No</td>\n",
       "      <td>217.0</td>\n",
       "      <td>Mobile</td>\n",
       "      <td>20650.0</td>\n",
       "      <td>1</td>\n",
       "      <td>3</td>\n",
       "      <td>Entertainment</td>\n",
       "      <td>91.0</td>\n",
       "      <td>2109</td>\n",
       "      <td>1</td>\n",
       "      <td>0</td>\n",
       "      <td>13</td>\n",
       "      <td>No</td>\n",
       "      <td>3</td>\n",
       "      <td>1.0</td>\n",
       "      <td>1.0</td>\n",
       "    </tr>\n",
       "    <tr>\n",
       "      <th>2744</th>\n",
       "      <td>1002745</td>\n",
       "      <td>No</td>\n",
       "      <td>232.0</td>\n",
       "      <td>Mobile</td>\n",
       "      <td>6860.0</td>\n",
       "      <td>29</td>\n",
       "      <td>4</td>\n",
       "      <td>Social media</td>\n",
       "      <td>91.0</td>\n",
       "      <td>5468</td>\n",
       "      <td>1</td>\n",
       "      <td>0</td>\n",
       "      <td>14</td>\n",
       "      <td>No</td>\n",
       "      <td>1</td>\n",
       "      <td>2.0</td>\n",
       "      <td>13.0</td>\n",
       "    </tr>\n",
       "    <tr>\n",
       "      <th>2750</th>\n",
       "      <td>1002751</td>\n",
       "      <td>No</td>\n",
       "      <td>277.0</td>\n",
       "      <td>Mobile</td>\n",
       "      <td>43365.0</td>\n",
       "      <td>1</td>\n",
       "      <td>2</td>\n",
       "      <td>Other</td>\n",
       "      <td>89.0</td>\n",
       "      <td>4071</td>\n",
       "      <td>2</td>\n",
       "      <td>0</td>\n",
       "      <td>13</td>\n",
       "      <td>No</td>\n",
       "      <td>3</td>\n",
       "      <td>0.0</td>\n",
       "      <td>19.0</td>\n",
       "    </tr>\n",
       "    <tr>\n",
       "      <th>2798</th>\n",
       "      <td>1002799</td>\n",
       "      <td>No</td>\n",
       "      <td>202.0</td>\n",
       "      <td>Mobile</td>\n",
       "      <td>25480.0</td>\n",
       "      <td>23</td>\n",
       "      <td>1</td>\n",
       "      <td>Medical</td>\n",
       "      <td>36.0</td>\n",
       "      <td>3540</td>\n",
       "      <td>1</td>\n",
       "      <td>0</td>\n",
       "      <td>21</td>\n",
       "      <td>Yes</td>\n",
       "      <td>4</td>\n",
       "      <td>1.0</td>\n",
       "      <td>9.0</td>\n",
       "    </tr>\n",
       "    <tr>\n",
       "      <th>2799</th>\n",
       "      <td>1002800</td>\n",
       "      <td>No</td>\n",
       "      <td>217.0</td>\n",
       "      <td>Mobile</td>\n",
       "      <td>12320.0</td>\n",
       "      <td>1</td>\n",
       "      <td>1</td>\n",
       "      <td>Medical</td>\n",
       "      <td>87.0</td>\n",
       "      <td>2804</td>\n",
       "      <td>1</td>\n",
       "      <td>0</td>\n",
       "      <td>11</td>\n",
       "      <td>No</td>\n",
       "      <td>4</td>\n",
       "      <td>0.0</td>\n",
       "      <td>1.0</td>\n",
       "    </tr>\n",
       "  </tbody>\n",
       "</table>\n",
       "</div>"
      ],
      "text/plain": [
       "       UserID Taken_product  Yearly_avg_view_on_travel_page preferred_device  \\\n",
       "2728  1002729            No                           217.0           Mobile   \n",
       "2744  1002745            No                           232.0           Mobile   \n",
       "2750  1002751            No                           277.0           Mobile   \n",
       "2798  1002799            No                           202.0           Mobile   \n",
       "2799  1002800            No                           217.0           Mobile   \n",
       "\n",
       "      total_likes_on_outstation_checkin_given  yearly_avg_Outstation_checkins  \\\n",
       "2728                                  20650.0                               1   \n",
       "2744                                   6860.0                              29   \n",
       "2750                                  43365.0                               1   \n",
       "2798                                  25480.0                              23   \n",
       "2799                                  12320.0                               1   \n",
       "\n",
       "      member_in_family preferred_location_type  \\\n",
       "2728                 3           Entertainment   \n",
       "2744                 4            Social media   \n",
       "2750                 2                   Other   \n",
       "2798                 1                 Medical   \n",
       "2799                 1                 Medical   \n",
       "\n",
       "      Yearly_avg_comment_on_travel_page  \\\n",
       "2728                               91.0   \n",
       "2744                               91.0   \n",
       "2750                               89.0   \n",
       "2798                               36.0   \n",
       "2799                               87.0   \n",
       "\n",
       "      total_likes_on_outofstation_checkin_received  \\\n",
       "2728                                          2109   \n",
       "2744                                          5468   \n",
       "2750                                          4071   \n",
       "2798                                          3540   \n",
       "2799                                          2804   \n",
       "\n",
       "      week_since_last_outstation_checkin following_company_page  \\\n",
       "2728                                   1                      0   \n",
       "2744                                   1                      0   \n",
       "2750                                   2                      0   \n",
       "2798                                   1                      0   \n",
       "2799                                   1                      0   \n",
       "\n",
       "      montly_avg_comment_on_company_page working_flag  \\\n",
       "2728                                  13           No   \n",
       "2744                                  14           No   \n",
       "2750                                  13           No   \n",
       "2798                                  21          Yes   \n",
       "2799                                  11           No   \n",
       "\n",
       "      travelling_network_rating  Adult_flag  \\\n",
       "2728                          3         1.0   \n",
       "2744                          1         2.0   \n",
       "2750                          3         0.0   \n",
       "2798                          4         1.0   \n",
       "2799                          4         0.0   \n",
       "\n",
       "      Daily_Avg_mins_spend_on_traveling_page  \n",
       "2728                                     1.0  \n",
       "2744                                    13.0  \n",
       "2750                                    19.0  \n",
       "2798                                     9.0  \n",
       "2799                                     1.0  "
      ]
     },
     "execution_count": 41,
     "metadata": {},
     "output_type": "execute_result"
    }
   ],
   "source": [
    "df.query(\"following_company_page == '0'\")"
   ]
  },
  {
   "cell_type": "code",
   "execution_count": 42,
   "id": "76d083e3",
   "metadata": {},
   "outputs": [],
   "source": [
    "following = {\n",
    "    \"1\" : \"Yes\",\n",
    "    \"Yeso\" : \"Yes\",\n",
    "    \"0\" : \"No\" \n",
    "}\n",
    "df[\"following_company_page\"].replace(following, inplace=True)"
   ]
  },
  {
   "cell_type": "code",
   "execution_count": 43,
   "id": "6704bae6",
   "metadata": {},
   "outputs": [
    {
     "data": {
      "text/html": [
       "<div>\n",
       "<style scoped>\n",
       "    .dataframe tbody tr th:only-of-type {\n",
       "        vertical-align: middle;\n",
       "    }\n",
       "\n",
       "    .dataframe tbody tr th {\n",
       "        vertical-align: top;\n",
       "    }\n",
       "\n",
       "    .dataframe thead th {\n",
       "        text-align: right;\n",
       "    }\n",
       "</style>\n",
       "<table border=\"1\" class=\"dataframe\">\n",
       "  <thead>\n",
       "    <tr style=\"text-align: right;\">\n",
       "      <th></th>\n",
       "      <th>UserID</th>\n",
       "      <th>Taken_product</th>\n",
       "      <th>Yearly_avg_view_on_travel_page</th>\n",
       "      <th>preferred_device</th>\n",
       "      <th>total_likes_on_outstation_checkin_given</th>\n",
       "      <th>yearly_avg_Outstation_checkins</th>\n",
       "      <th>member_in_family</th>\n",
       "      <th>preferred_location_type</th>\n",
       "      <th>Yearly_avg_comment_on_travel_page</th>\n",
       "      <th>total_likes_on_outofstation_checkin_received</th>\n",
       "      <th>week_since_last_outstation_checkin</th>\n",
       "      <th>following_company_page</th>\n",
       "      <th>montly_avg_comment_on_company_page</th>\n",
       "      <th>working_flag</th>\n",
       "      <th>travelling_network_rating</th>\n",
       "      <th>Adult_flag</th>\n",
       "      <th>Daily_Avg_mins_spend_on_traveling_page</th>\n",
       "    </tr>\n",
       "  </thead>\n",
       "  <tbody>\n",
       "    <tr>\n",
       "      <th>2798</th>\n",
       "      <td>1002799</td>\n",
       "      <td>No</td>\n",
       "      <td>202.0</td>\n",
       "      <td>Mobile</td>\n",
       "      <td>25480.0</td>\n",
       "      <td>23</td>\n",
       "      <td>1</td>\n",
       "      <td>Medical</td>\n",
       "      <td>36.0</td>\n",
       "      <td>3540</td>\n",
       "      <td>1</td>\n",
       "      <td>No</td>\n",
       "      <td>21</td>\n",
       "      <td>Yes</td>\n",
       "      <td>4</td>\n",
       "      <td>1.0</td>\n",
       "      <td>9.0</td>\n",
       "    </tr>\n",
       "  </tbody>\n",
       "</table>\n",
       "</div>"
      ],
      "text/plain": [
       "       UserID Taken_product  Yearly_avg_view_on_travel_page preferred_device  \\\n",
       "2798  1002799            No                           202.0           Mobile   \n",
       "\n",
       "      total_likes_on_outstation_checkin_given  yearly_avg_Outstation_checkins  \\\n",
       "2798                                  25480.0                              23   \n",
       "\n",
       "      member_in_family preferred_location_type  \\\n",
       "2798                 1                 Medical   \n",
       "\n",
       "      Yearly_avg_comment_on_travel_page  \\\n",
       "2798                               36.0   \n",
       "\n",
       "      total_likes_on_outofstation_checkin_received  \\\n",
       "2798                                          3540   \n",
       "\n",
       "      week_since_last_outstation_checkin following_company_page  \\\n",
       "2798                                   1                     No   \n",
       "\n",
       "      montly_avg_comment_on_company_page working_flag  \\\n",
       "2798                                  21          Yes   \n",
       "\n",
       "      travelling_network_rating  Adult_flag  \\\n",
       "2798                          4         1.0   \n",
       "\n",
       "      Daily_Avg_mins_spend_on_traveling_page  \n",
       "2798                                     9.0  "
      ]
     },
     "execution_count": 43,
     "metadata": {},
     "output_type": "execute_result"
    }
   ],
   "source": [
    "df.query(\"UserID == 1002799\")"
   ]
  },
  {
   "cell_type": "code",
   "execution_count": 44,
   "id": "3b466309",
   "metadata": {},
   "outputs": [],
   "source": [
    "df[\"following_company_page\"].fillna(df[\"following_company_page\"].mode()[0], inplace=True)"
   ]
  },
  {
   "cell_type": "code",
   "execution_count": 45,
   "id": "732cc5a6",
   "metadata": {},
   "outputs": [
    {
     "data": {
      "text/plain": [
       "False"
      ]
     },
     "execution_count": 45,
     "metadata": {},
     "output_type": "execute_result"
    }
   ],
   "source": [
    "df[\"following_company_page\"].isnull().sum().any()"
   ]
  },
  {
   "cell_type": "markdown",
   "id": "dad30fe0",
   "metadata": {},
   "source": [
    "### Problem in column (Adult_flag, Daily_Avg_mins_spend_on_traveling_page)\n",
    "##### There're missing values"
   ]
  },
  {
   "cell_type": "code",
   "execution_count": 46,
   "id": "e6a6c94e",
   "metadata": {},
   "outputs": [],
   "source": [
    "l = [\"Daily_Avg_mins_spend_on_traveling_page\", \"Adult_flag\"]\n",
    "for i in l:\n",
    "    df[i].fillna(df[i].mode()[0], inplace=True)"
   ]
  },
  {
   "cell_type": "code",
   "execution_count": 47,
   "id": "22be1cae",
   "metadata": {},
   "outputs": [
    {
     "data": {
      "text/plain": [
       "False"
      ]
     },
     "execution_count": 47,
     "metadata": {},
     "output_type": "execute_result"
    }
   ],
   "source": [
    "df.isnull().sum().any()"
   ]
  },
  {
   "cell_type": "code",
   "execution_count": 51,
   "id": "14bbcab6",
   "metadata": {},
   "outputs": [
    {
     "data": {
      "text/plain": [
       "No     9951\n",
       "Yes    1808\n",
       "0         1\n",
       "Name: working_flag, dtype: int64"
      ]
     },
     "execution_count": 51,
     "metadata": {},
     "output_type": "execute_result"
    }
   ],
   "source": [
    "df[\"working_flag\"].value_counts()"
   ]
  },
  {
   "cell_type": "code",
   "execution_count": 52,
   "id": "ba4be458",
   "metadata": {},
   "outputs": [],
   "source": [
    "df[\"working_flag\"].replace(\"0\", \"No\", inplace=True)"
   ]
  },
  {
   "cell_type": "code",
   "execution_count": 55,
   "id": "684817d0",
   "metadata": {},
   "outputs": [
    {
     "data": {
      "text/plain": [
       "No     9952\n",
       "Yes    1808\n",
       "Name: working_flag, dtype: int64"
      ]
     },
     "execution_count": 55,
     "metadata": {},
     "output_type": "execute_result"
    }
   ],
   "source": [
    "df[\"working_flag\"].value_counts()"
   ]
  },
  {
   "cell_type": "code",
   "execution_count": 57,
   "id": "e4ab3160",
   "metadata": {},
   "outputs": [
    {
     "data": {
      "text/plain": [
       "0.0    5048\n",
       "1.0    4768\n",
       "2.0    1264\n",
       "3.0     680\n",
       "Name: Adult_flag, dtype: int64"
      ]
     },
     "execution_count": 57,
     "metadata": {},
     "output_type": "execute_result"
    }
   ],
   "source": [
    "df[\"Adult_flag\"].value_counts()"
   ]
  },
  {
   "cell_type": "code",
   "execution_count": 48,
   "id": "21196cbb",
   "metadata": {},
   "outputs": [
    {
     "name": "stdout",
     "output_type": "stream",
     "text": [
      "<class 'pandas.core.frame.DataFrame'>\n",
      "RangeIndex: 11760 entries, 0 to 11759\n",
      "Data columns (total 17 columns):\n",
      " #   Column                                        Non-Null Count  Dtype  \n",
      "---  ------                                        --------------  -----  \n",
      " 0   UserID                                        11760 non-null  int64  \n",
      " 1   Taken_product                                 11760 non-null  object \n",
      " 2   Yearly_avg_view_on_travel_page                11760 non-null  float64\n",
      " 3   preferred_device                              11760 non-null  object \n",
      " 4   total_likes_on_outstation_checkin_given       11760 non-null  float64\n",
      " 5   yearly_avg_Outstation_checkins                11760 non-null  int32  \n",
      " 6   member_in_family                              11760 non-null  int64  \n",
      " 7   preferred_location_type                       11760 non-null  object \n",
      " 8   Yearly_avg_comment_on_travel_page             11760 non-null  float64\n",
      " 9   total_likes_on_outofstation_checkin_received  11760 non-null  int64  \n",
      " 10  week_since_last_outstation_checkin            11760 non-null  int64  \n",
      " 11  following_company_page                        11760 non-null  object \n",
      " 12  montly_avg_comment_on_company_page            11760 non-null  int64  \n",
      " 13  working_flag                                  11760 non-null  object \n",
      " 14  travelling_network_rating                     11760 non-null  int64  \n",
      " 15  Adult_flag                                    11760 non-null  float64\n",
      " 16  Daily_Avg_mins_spend_on_traveling_page        11760 non-null  float64\n",
      "dtypes: float64(5), int32(1), int64(6), object(5)\n",
      "memory usage: 1.5+ MB\n"
     ]
    }
   ],
   "source": [
    "df.info()"
   ]
  },
  {
   "cell_type": "code",
   "execution_count": 54,
   "id": "b6962f69",
   "metadata": {},
   "outputs": [],
   "source": [
    "df.to_csv(\"Cleaned_Data.csv\", index=False)"
   ]
  }
 ],
 "metadata": {
  "kernelspec": {
   "display_name": "Python 3",
   "language": "python",
   "name": "python3"
  },
  "language_info": {
   "codemirror_mode": {
    "name": "ipython",
    "version": 3
   },
   "file_extension": ".py",
   "mimetype": "text/x-python",
   "name": "python",
   "nbconvert_exporter": "python",
   "pygments_lexer": "ipython3",
   "version": "3.11.9"
  }
 },
 "nbformat": 4,
 "nbformat_minor": 5
}
